{
  "nbformat": 4,
  "nbformat_minor": 0,
  "metadata": {
    "colab": {
      "provenance": [],
      "authorship_tag": "ABX9TyPaieGGycuXuq3kj9reJqAk",
      "include_colab_link": true
    },
    "kernelspec": {
      "name": "python3",
      "display_name": "Python 3"
    },
    "language_info": {
      "name": "python"
    }
  },
  "cells": [
    {
      "cell_type": "markdown",
      "metadata": {
        "id": "view-in-github",
        "colab_type": "text"
      },
      "source": [
        "<a href=\"https://colab.research.google.com/github/karman07/Learn-Python/blob/Challenges/Solution1.ipynb\" target=\"_parent\"><img src=\"https://colab.research.google.com/assets/colab-badge.svg\" alt=\"Open In Colab\"/></a>"
      ]
    },
    {
      "cell_type": "code",
      "execution_count": 5,
      "metadata": {
        "colab": {
          "base_uri": "https://localhost:8080/"
        },
        "id": "BcjXhNa-sqSS",
        "outputId": "6ce6f8ac-ab2e-43b9-d998-86001088be4d"
      },
      "outputs": [
        {
          "output_type": "stream",
          "name": "stdout",
          "text": [
            "['Ram', 'Shayam', 'Aman', '1', '2', '3']\n",
            "['1', '2', '3', 'Aman', 'Ram', 'Shayam']\n"
          ]
        }
      ],
      "source": [
        "L = [\"Ram\",\"Shayam\",\"Aman\", \"1\", \"2\", \"3\"]\n",
        "\n",
        "L= [str(i) for i in L]\n",
        "\n",
        "L1 = []\n",
        "\n",
        "for i in L:\n",
        "  try:\n",
        "    L1.append(int(i))\n",
        "  except:\n",
        "    L1.append(i)\n",
        "\n",
        "print(L)\n",
        "L.sort()\n",
        "print(L)"
      ]
    },
    {
      "cell_type": "code",
      "source": [],
      "metadata": {
        "id": "Tqv-sC8uxHOS"
      },
      "execution_count": null,
      "outputs": []
    },
    {
      "cell_type": "code",
      "source": [],
      "metadata": {
        "id": "GpdC76N8s9jy"
      },
      "execution_count": null,
      "outputs": []
    }
  ]
}